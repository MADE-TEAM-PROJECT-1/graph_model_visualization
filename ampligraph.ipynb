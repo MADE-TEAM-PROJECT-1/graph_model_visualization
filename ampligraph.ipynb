{
 "cells": [
  {
   "cell_type": "code",
   "execution_count": 25,
   "id": "b1d7bae3-cab5-4998-9558-714b1b4153b3",
   "metadata": {},
   "outputs": [],
   "source": [
    "import pandas as pd\n",
    "import numpy as np\n",
    "from tqdm.notebook import tqdm\n",
    "from itertools import combinations\n",
    "from collections import Counter\n",
    "#from ampligraph.latent_features import ConvE, DistMult, save_model, restore_model\n",
    "#from ampligraph.discovery import discover_facts, find_nearest_neighbours, query_topn\n",
    "from pyvis.network import Network\n",
    "import matplotlib.pyplot as plt\n"
   ]
  },
  {
   "cell_type": "code",
   "execution_count": 7,
   "id": "d4c7253c",
   "metadata": {},
   "outputs": [
    {
     "name": "stdout",
     "output_type": "stream",
     "text": [
      "Collecting pyvis\n",
      "  Downloading pyvis-0.3.1.tar.gz (748 kB)\n",
      "     ------------------------------------ 748.9/748.9 kB 397.4 kB/s eta 0:00:00\n",
      "  Preparing metadata (setup.py): started\n",
      "  Preparing metadata (setup.py): finished with status 'done'\n",
      "Requirement already satisfied: jinja2>=2.9.6 in c:\\users\\user\\appdata\\local\\programs\\python\\python311\\lib\\site-packages (from pyvis) (3.1.2)\n",
      "Requirement already satisfied: networkx>=1.11 in c:\\users\\user\\appdata\\local\\programs\\python\\python311\\lib\\site-packages (from pyvis) (2.8.8)\n",
      "Requirement already satisfied: ipython>=5.3.0 in c:\\users\\user\\appdata\\roaming\\python\\python311\\site-packages (from pyvis) (8.6.0)\n",
      "Collecting jsonpickle>=1.4.1\n",
      "  Downloading jsonpickle-2.2.0-py2.py3-none-any.whl (39 kB)\n",
      "Requirement already satisfied: backcall in c:\\users\\user\\appdata\\roaming\\python\\python311\\site-packages (from ipython>=5.3.0->pyvis) (0.2.0)\n",
      "Requirement already satisfied: decorator in c:\\users\\user\\appdata\\roaming\\python\\python311\\site-packages (from ipython>=5.3.0->pyvis) (5.1.1)\n",
      "Requirement already satisfied: jedi>=0.16 in c:\\users\\user\\appdata\\roaming\\python\\python311\\site-packages (from ipython>=5.3.0->pyvis) (0.18.1)\n",
      "Requirement already satisfied: matplotlib-inline in c:\\users\\user\\appdata\\roaming\\python\\python311\\site-packages (from ipython>=5.3.0->pyvis) (0.1.6)\n",
      "Requirement already satisfied: pickleshare in c:\\users\\user\\appdata\\roaming\\python\\python311\\site-packages (from ipython>=5.3.0->pyvis) (0.7.5)\n",
      "Requirement already satisfied: prompt-toolkit<3.1.0,>3.0.1 in c:\\users\\user\\appdata\\roaming\\python\\python311\\site-packages (from ipython>=5.3.0->pyvis) (3.0.32)\n",
      "Requirement already satisfied: pygments>=2.4.0 in c:\\users\\user\\appdata\\roaming\\python\\python311\\site-packages (from ipython>=5.3.0->pyvis) (2.13.0)\n",
      "Requirement already satisfied: stack-data in c:\\users\\user\\appdata\\roaming\\python\\python311\\site-packages (from ipython>=5.3.0->pyvis) (0.6.1)\n",
      "Requirement already satisfied: traitlets>=5 in c:\\users\\user\\appdata\\roaming\\python\\python311\\site-packages (from ipython>=5.3.0->pyvis) (5.5.0)\n",
      "Requirement already satisfied: colorama in c:\\users\\user\\appdata\\local\\programs\\python\\python311\\lib\\site-packages (from ipython>=5.3.0->pyvis) (0.4.6)\n",
      "Requirement already satisfied: MarkupSafe>=2.0 in c:\\users\\user\\appdata\\local\\programs\\python\\python311\\lib\\site-packages (from jinja2>=2.9.6->pyvis) (2.1.1)\n",
      "Requirement already satisfied: parso<0.9.0,>=0.8.0 in c:\\users\\user\\appdata\\roaming\\python\\python311\\site-packages (from jedi>=0.16->ipython>=5.3.0->pyvis) (0.8.3)\n",
      "Requirement already satisfied: wcwidth in c:\\users\\user\\appdata\\roaming\\python\\python311\\site-packages (from prompt-toolkit<3.1.0,>3.0.1->ipython>=5.3.0->pyvis) (0.2.5)\n",
      "Requirement already satisfied: executing>=1.2.0 in c:\\users\\user\\appdata\\roaming\\python\\python311\\site-packages (from stack-data->ipython>=5.3.0->pyvis) (1.2.0)\n",
      "Requirement already satisfied: asttokens>=2.1.0 in c:\\users\\user\\appdata\\roaming\\python\\python311\\site-packages (from stack-data->ipython>=5.3.0->pyvis) (2.1.0)\n",
      "Requirement already satisfied: pure-eval in c:\\users\\user\\appdata\\roaming\\python\\python311\\site-packages (from stack-data->ipython>=5.3.0->pyvis) (0.2.2)\n",
      "Requirement already satisfied: six in c:\\users\\user\\appdata\\local\\programs\\python\\python311\\lib\\site-packages (from asttokens>=2.1.0->stack-data->ipython>=5.3.0->pyvis) (1.16.0)\n",
      "Installing collected packages: jsonpickle, pyvis\n",
      "  Running setup.py install for pyvis: started\n",
      "  Running setup.py install for pyvis: finished with status 'done'\n",
      "Successfully installed jsonpickle-2.2.0 pyvis-0.3.1\n",
      "Note: you may need to restart the kernel to use updated packages.\n"
     ]
    },
    {
     "name": "stderr",
     "output_type": "stream",
     "text": [
      "  DEPRECATION: pyvis is being installed using the legacy 'setup.py install' method, because it does not have a 'pyproject.toml' and the 'wheel' package is not installed. pip 23.1 will enforce this behaviour change. A possible replacement is to enable the '--use-pep517' option. Discussion can be found at https://github.com/pypa/pip/issues/8559\n"
     ]
    }
   ],
   "source": [
    "pip install pyvis"
   ]
  },
  {
   "cell_type": "code",
   "execution_count": null,
   "id": "4773cfac",
   "metadata": {},
   "outputs": [],
   "source": []
  },
  {
   "cell_type": "code",
   "execution_count": 66,
   "id": "56c83ecf-1d8f-474e-9f8f-8a9764dca7d5",
   "metadata": {},
   "outputs": [],
   "source": [
    "q = pd.read_json('part_3_clean.json')\n",
    "articles = pd.DataFrame()\n",
    "articles['_id'] = q['_id']\n",
    "articles['references'] = q['references']\n",
    "articles['authors'] = q['authors']\n",
    "articles['year'] = q['year']"
   ]
  },
  {
   "cell_type": "code",
   "execution_count": 67,
   "id": "16d0b00d",
   "metadata": {},
   "outputs": [],
   "source": [
    "min_year = min(articles['year'])\n",
    "max_year = max(articles['year'])"
   ]
  },
  {
   "cell_type": "code",
   "execution_count": 68,
   "id": "5550246d-14fe-4684-97df-f5c41c06a1d1",
   "metadata": {},
   "outputs": [
    {
     "name": "stdout",
     "output_type": "stream",
     "text": [
      "<class 'pandas.core.frame.DataFrame'>\n",
      "Int64Index: 141155 entries, 0 to 141154\n",
      "Data columns (total 4 columns):\n",
      " #   Column      Non-Null Count   Dtype \n",
      "---  ------      --------------   ----- \n",
      " 0   _id         141155 non-null  object\n",
      " 1   references  141155 non-null  object\n",
      " 2   authors     141155 non-null  object\n",
      " 3   year        141155 non-null  int64 \n",
      "dtypes: int64(1), object(3)\n",
      "memory usage: 5.4+ MB\n"
     ]
    }
   ],
   "source": [
    "articles.info()"
   ]
  },
  {
   "cell_type": "code",
   "execution_count": 69,
   "id": "6951c27c",
   "metadata": {},
   "outputs": [],
   "source": [
    "articles = articles[0:200]"
   ]
  },
  {
   "cell_type": "code",
   "execution_count": 70,
   "id": "4b594b70-1a66-492a-ab23-48240a83b7e4",
   "metadata": {},
   "outputs": [
    {
     "data": {
      "text/html": [
       "<div>\n",
       "<style scoped>\n",
       "    .dataframe tbody tr th:only-of-type {\n",
       "        vertical-align: middle;\n",
       "    }\n",
       "\n",
       "    .dataframe tbody tr th {\n",
       "        vertical-align: top;\n",
       "    }\n",
       "\n",
       "    .dataframe thead th {\n",
       "        text-align: right;\n",
       "    }\n",
       "</style>\n",
       "<table border=\"1\" class=\"dataframe\">\n",
       "  <thead>\n",
       "    <tr style=\"text-align: right;\">\n",
       "      <th></th>\n",
       "      <th>_id</th>\n",
       "      <th>references</th>\n",
       "      <th>authors</th>\n",
       "      <th>year</th>\n",
       "    </tr>\n",
       "  </thead>\n",
       "  <tbody>\n",
       "    <tr>\n",
       "      <th>0</th>\n",
       "      <td>56d85787dabfae2eee3492a5</td>\n",
       "      <td>[55323d3f45cec66b6f9dde71, 5736954c6e3b12023e4...</td>\n",
       "      <td>[{'_id': '54068615dabfae8faa60c7c4', 'name': '...</td>\n",
       "      <td>2015</td>\n",
       "    </tr>\n",
       "    <tr>\n",
       "      <th>1</th>\n",
       "      <td>56d8578edabfae2eee34c50a</td>\n",
       "      <td>[53e9990cb7602d9702146f11, 53e9a62eb7602d9702f...</td>\n",
       "      <td>[{'_id': '562d1b2045cedb3398d54413', 'name': '...</td>\n",
       "      <td>2015</td>\n",
       "    </tr>\n",
       "    <tr>\n",
       "      <th>2</th>\n",
       "      <td>56d85790dabfae2eee34d0b3</td>\n",
       "      <td>[53e9a2ecb7602d9702bf5e30, 53e99f42b7602d97028...</td>\n",
       "      <td>[{'_id': '5606653745cedb3396868235', 'name': '...</td>\n",
       "      <td>2013</td>\n",
       "    </tr>\n",
       "    <tr>\n",
       "      <th>3</th>\n",
       "      <td>56d85791dabfae2eee34d7d2</td>\n",
       "      <td>[53e9a97bb7602d97032d454a, 53e99fd6b7602d97028...</td>\n",
       "      <td>[{'_id': '53f44c92dabfaefedbb2c18b', 'name': '...</td>\n",
       "      <td>2015</td>\n",
       "    </tr>\n",
       "    <tr>\n",
       "      <th>4</th>\n",
       "      <td>56d85796dabfae2eee35068d</td>\n",
       "      <td>[53e99cf5b7602d97025ad76a, 53e9984bb7602d97020...</td>\n",
       "      <td>[{'_id': '53f464b5dabfaeb22f536448', 'name': '...</td>\n",
       "      <td>2014</td>\n",
       "    </tr>\n",
       "  </tbody>\n",
       "</table>\n",
       "</div>"
      ],
      "text/plain": [
       "                        _id  \\\n",
       "0  56d85787dabfae2eee3492a5   \n",
       "1  56d8578edabfae2eee34c50a   \n",
       "2  56d85790dabfae2eee34d0b3   \n",
       "3  56d85791dabfae2eee34d7d2   \n",
       "4  56d85796dabfae2eee35068d   \n",
       "\n",
       "                                          references  \\\n",
       "0  [55323d3f45cec66b6f9dde71, 5736954c6e3b12023e4...   \n",
       "1  [53e9990cb7602d9702146f11, 53e9a62eb7602d9702f...   \n",
       "2  [53e9a2ecb7602d9702bf5e30, 53e99f42b7602d97028...   \n",
       "3  [53e9a97bb7602d97032d454a, 53e99fd6b7602d97028...   \n",
       "4  [53e99cf5b7602d97025ad76a, 53e9984bb7602d97020...   \n",
       "\n",
       "                                             authors  year  \n",
       "0  [{'_id': '54068615dabfae8faa60c7c4', 'name': '...  2015  \n",
       "1  [{'_id': '562d1b2045cedb3398d54413', 'name': '...  2015  \n",
       "2  [{'_id': '5606653745cedb3396868235', 'name': '...  2013  \n",
       "3  [{'_id': '53f44c92dabfaefedbb2c18b', 'name': '...  2015  \n",
       "4  [{'_id': '53f464b5dabfaeb22f536448', 'name': '...  2014  "
      ]
     },
     "execution_count": 70,
     "metadata": {},
     "output_type": "execute_result"
    }
   ],
   "source": [
    "articles.head()"
   ]
  },
  {
   "cell_type": "markdown",
   "id": "54635d41-bef0-4fc1-879b-387294f39b96",
   "metadata": {},
   "source": [
    "# Creating dataset\n",
    "\n",
    "Dataset consist from tuples: `(entity1, relation, entity2)`, where  relation $\\in$ {`REFERENCE`, `AUTHOR`, `COAUTHOR`}"
   ]
  },
  {
   "cell_type": "code",
   "execution_count": 71,
   "id": "8a45627c-ed30-416c-9ad4-fc494870efc2",
   "metadata": {},
   "outputs": [
    {
     "data": {
      "application/vnd.jupyter.widget-view+json": {
       "model_id": "f78c5a01d96c46819c2118de8f4c791c",
       "version_major": 2,
       "version_minor": 0
      },
      "text/plain": [
       "  0%|          | 0/100000 [00:00<?, ?it/s]"
      ]
     },
     "metadata": {},
     "output_type": "display_data"
    },
    {
     "name": "stdout",
     "output_type": "stream",
     "text": [
      "3163\n",
      "Counter({'REFERENCE': 1849, 'COAUTHOR': 755, 'AUTHOR': 559})\n"
     ]
    }
   ],
   "source": [
    "dataset = []\n",
    "\n",
    "coauthors = set()  # to exclude repeated coathors\n",
    "for _, article in tqdm(articles.iloc[:N].iterrows(), total=N):\n",
    "    dataset.extend([[article._id, 'REFERENCE', ref, article.year] for ref in article.references])\n",
    "    \n",
    "    authors = sorted(author['_id'] for author in article.authors)\n",
    "    dataset.extend([[author, 'AUTHOR', article._id, article.year] for author in authors])\n",
    "    \n",
    "    curr_coauthors = set(filter(lambda p: p not in coauthors, combinations(authors, 2)))\n",
    "    dataset.extend([[author1, 'COAUTHOR', author2, article.year] for (author1, author2) in curr_coauthors])\n",
    "    \n",
    "    coauthors |= curr_coauthors\n",
    "\n",
    "print(len(dataset))\n",
    "dataset = np.array(dataset)\n",
    "print(Counter(dataset[:, 1]))"
   ]
  },
  {
   "cell_type": "code",
   "execution_count": 47,
   "id": "55d36b86-bcdb-4117-8a9d-80b0c920946b",
   "metadata": {},
   "outputs": [
    {
     "name": "stdout",
     "output_type": "stream",
     "text": [
      "[['56d85787dabfae2eee3492a5' 'REFERENCE' '55323d3f45cec66b6f9dde71'\n",
      "  '2015']\n",
      " ['56d85787dabfae2eee3492a5' 'REFERENCE' '5736954c6e3b12023e4789f9'\n",
      "  '2015']\n",
      " ['56d85787dabfae2eee3492a5' 'REFERENCE' '53e99bb1b7602d9702455f09'\n",
      "  '2015']\n",
      " ['56d85787dabfae2eee3492a5' 'REFERENCE' '53e9a806b7602d970314667b'\n",
      "  '2015']\n",
      " ['56d85787dabfae2eee3492a5' 'REFERENCE' '53e9b109b7602d9703b898e2'\n",
      "  '2015']\n",
      " ['56d85787dabfae2eee3492a5' 'REFERENCE' '5736954c6e3b12023e4789a0'\n",
      "  '2015']\n",
      " ['56d85787dabfae2eee3492a5' 'REFERENCE' '53e9a46bb7602d9702d885f6'\n",
      "  '2015']\n",
      " ['54068615dabfae8faa60c7c4' 'AUTHOR' '56d85787dabfae2eee3492a5' '2015']\n",
      " ['56d8578edabfae2eee34c50a' 'REFERENCE' '53e9990cb7602d9702146f11'\n",
      "  '2015']\n",
      " ['56d8578edabfae2eee34c50a' 'REFERENCE' '53e9a62eb7602d9702f5b6a0'\n",
      "  '2015']\n",
      " ['56d8578edabfae2eee34c50a' 'REFERENCE' '53e9bb23b7602d970475e3b7'\n",
      "  '2015']\n",
      " ['56d8578edabfae2eee34c50a' 'REFERENCE' '573697d46e3b12023e6b3582'\n",
      "  '2015']\n",
      " ['53f452cfdabfaee02ad4b291' 'AUTHOR' '56d8578edabfae2eee34c50a' '2015']\n",
      " ['53f464ffdabfaedf436407df' 'AUTHOR' '56d8578edabfae2eee34c50a' '2015']\n",
      " ['54329691dabfaeb4c6a9080f' 'AUTHOR' '56d8578edabfae2eee34c50a' '2015']\n",
      " ['562d1b2045cedb3398d54413' 'AUTHOR' '56d8578edabfae2eee34c50a' '2015']\n",
      " ['54329691dabfaeb4c6a9080f' 'COAUTHOR' '562d1b2045cedb3398d54413' '2015']\n",
      " ['53f452cfdabfaee02ad4b291' 'COAUTHOR' '53f464ffdabfaedf436407df' '2015']\n",
      " ['53f452cfdabfaee02ad4b291' 'COAUTHOR' '54329691dabfaeb4c6a9080f' '2015']\n",
      " ['53f464ffdabfaedf436407df' 'COAUTHOR' '54329691dabfaeb4c6a9080f' '2015']]\n"
     ]
    }
   ],
   "source": [
    "print(dataset[:20])"
   ]
  },
  {
   "cell_type": "code",
   "execution_count": 72,
   "id": "ed3bc108",
   "metadata": {},
   "outputs": [],
   "source": [
    "author_weights = dict()\n",
    "for item in dataset:\n",
    "    if item[1] == 'AUTHOR':\n",
    "        if item[0] not in author_weights:\n",
    "            author_weights[item[0]] = 1\n",
    "        else:    \n",
    "            author_weights[item[0]]+=1"
   ]
  },
  {
   "cell_type": "code",
   "execution_count": 73,
   "id": "463fdb22",
   "metadata": {},
   "outputs": [
    {
     "name": "stdout",
     "output_type": "stream",
     "text": [
      "['54068615dabfae8faa60c7c4', '53f452cfdabfaee02ad4b291', '53f464ffdabfaedf436407df', '54329691dabfaeb4c6a9080f', '562d1b2045cedb3398d54413', '5606653745cedb3396868235', '53f438a7dabfaec09f19263c', '53f44c92dabfaefedbb2c18b', '562d3e3145cedb3398d9be6d', '53f464b5dabfaeb22f536448']\n",
      "[1, 1, 1, 1, 1, 1, 1, 1, 1, 1]\n"
     ]
    }
   ],
   "source": [
    "nodes = list(author_weights.keys())\n",
    "weights = list(author_weights.values())\n",
    "print(nodes[0:10])\n",
    "print(weights[0:10])"
   ]
  },
  {
   "cell_type": "code",
   "execution_count": 74,
   "id": "c72f334b",
   "metadata": {},
   "outputs": [
    {
     "name": "stdout",
     "output_type": "stream",
     "text": [
      "Local cdn resources have problems on chrome/safari when used in jupyter-notebook. \n"
     ]
    }
   ],
   "source": [
    "graph = Network(notebook=True)\n",
    "graph.add_nodes(nodes, value=weights)"
   ]
  },
  {
   "cell_type": "code",
   "execution_count": 75,
   "id": "6f61417b",
   "metadata": {},
   "outputs": [],
   "source": [
    "Blues = plt.get_cmap('Blues')\n",
    "def make_year_to_color(year):\n",
    "    ratio = (year - min_year) / (max_year  - min_year + 1)\n",
    "    return Blues(ratio)\n"
   ]
  },
  {
   "cell_type": "code",
   "execution_count": 77,
   "id": "de086955",
   "metadata": {},
   "outputs": [],
   "source": [
    "for item in dataset:\n",
    "    if item[1] == 'REFERENCE' and item[0] in author_weights and item[2] in author_weights:\n",
    "        graph.add_edge(item[0], item[2], color=make_year_to_color(int(item[3])))"
   ]
  },
  {
   "cell_type": "code",
   "execution_count": 78,
   "id": "fd33867c",
   "metadata": {},
   "outputs": [
    {
     "data": {
      "text/html": [
       "\n",
       "        <iframe\n",
       "            width=\"100%\"\n",
       "            height=\"600px\"\n",
       "            src=\"grpah_200_articles.html\"\n",
       "            frameborder=\"0\"\n",
       "            allowfullscreen\n",
       "            \n",
       "        ></iframe>\n",
       "        "
      ],
      "text/plain": [
       "<IPython.lib.display.IFrame at 0x1827c7de350>"
      ]
     },
     "execution_count": 78,
     "metadata": {},
     "output_type": "execute_result"
    }
   ],
   "source": [
    "graph.show('grpah_200_articles.html')"
   ]
  },
  {
   "cell_type": "code",
   "execution_count": null,
   "id": "a1b8117e",
   "metadata": {},
   "outputs": [],
   "source": []
  }
 ],
 "metadata": {
  "kernelspec": {
   "display_name": "Python 3.11.0 64-bit",
   "language": "python",
   "name": "python3"
  },
  "language_info": {
   "codemirror_mode": {
    "name": "ipython",
    "version": 3
   },
   "file_extension": ".py",
   "mimetype": "text/x-python",
   "name": "python",
   "nbconvert_exporter": "python",
   "pygments_lexer": "ipython3",
   "version": "3.11.0"
  },
  "vscode": {
   "interpreter": {
    "hash": "de47f5c92c0ee6f12a59a5613ac5feff6aab19ddff207ba0b3964cced08c4ccc"
   }
  }
 },
 "nbformat": 4,
 "nbformat_minor": 5
}
